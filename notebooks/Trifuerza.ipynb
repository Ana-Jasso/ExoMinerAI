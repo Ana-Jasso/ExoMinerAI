{
  "cells": [
    {
      "cell_type": "markdown",
      "metadata": {
        "id": "X56kIzPbZ17l"
      },
      "source": [
        "## K2Processed"
      ]
    },
    {
      "cell_type": "code",
      "execution_count": 23,
      "metadata": {
        "colab": {
          "base_uri": "https://localhost:8080/"
        },
        "id": "0e7759c8",
        "outputId": "bc64690a-10d4-491b-d898-bffa54f4a94f"
      },
      "outputs": [
        {
          "name": "stdout",
          "output_type": "stream",
          "text": [
            "Counts for K2Processed.csv:\n",
            "Status\n",
            "CP    1019\n",
            "FP      10\n",
            "PC     192\n",
            "Name: count, dtype: int64\n"
          ]
        }
      ],
      "source": [
        "import pandas as pd\n",
        "\n",
        "# Read the K2Processed.csv file into a DataFrame\n",
        "k2_df = pd.read_csv('.././data/processed/K2Processed.csv')\n",
        "\n",
        "# Normalize disposition labels\n",
        "k2_df['disposition'] = k2_df['disposition'].replace({\n",
        "    'CONFIRMED': 'CP',\n",
        "    'FALSE POSITIVE': 'FP',\n",
        "    'CANDIDATE': 'PC'\n",
        "})\n",
        "\n",
        "# Rename the disposition column to 'Status'\n",
        "k2_df = k2_df.rename(columns={'disposition': 'Status'})\n",
        "\n",
        "# Count the occurrences of each disposition type\n",
        "disposition_counts = k2_df['Status'].value_counts()\n",
        "\n",
        "# Display the counts for the requested dispositions\n",
        "print(\"Counts for K2Processed.csv:\")\n",
        "print(disposition_counts[['CP', 'FP', 'PC']])"
      ]
    },
    {
      "cell_type": "markdown",
      "metadata": {
        "id": "oVEJnQJlZ6zO"
      },
      "source": [
        "## KeplerProcessed"
      ]
    },
    {
      "cell_type": "code",
      "execution_count": 24,
      "metadata": {
        "colab": {
          "base_uri": "https://localhost:8080/"
        },
        "id": "df4af572",
        "outputId": "42405fce-9aa8-4b72-8c61-ad7c1193f526"
      },
      "outputs": [
        {
          "name": "stdout",
          "output_type": "stream",
          "text": [
            "Counts for KeplerProcessed.csv:\n",
            "Status\n",
            "FP    3735\n",
            "CP    2731\n",
            "PC    1356\n",
            "Name: count, dtype: int64\n"
          ]
        }
      ],
      "source": [
        "import pandas as pd\n",
        "\n",
        "# Read the KeplerProcessed.csv file into a DataFrame\n",
        "kepler_df = pd.read_csv('.././data/processed/KeplerProcessed.csv')\n",
        "\n",
        "# Normalize disposition labels\n",
        "kepler_df['koi_disposition'] = kepler_df['koi_disposition'].replace({\n",
        "    'CONFIRMED': 'CP',\n",
        "    'FALSE POSITIVE': 'FP',\n",
        "    'CANDIDATE': 'PC'\n",
        "})\n",
        "\n",
        "# Rename the koi_disposition column to 'Status'\n",
        "kepler_df = kepler_df.rename(columns={'koi_disposition': 'Status'})\n",
        "\n",
        "# Count the occurrences of each value in the 'Status' column\n",
        "koi_disposition_counts = kepler_df['Status'].value_counts()\n",
        "\n",
        "# Display the counts\n",
        "print(\"Counts for KeplerProcessed.csv:\")\n",
        "print(koi_disposition_counts)"
      ]
    },
    {
      "cell_type": "markdown",
      "metadata": {
        "id": "yfVieZBnabeS"
      },
      "source": [
        "## TOIProcessed"
      ]
    },
    {
      "cell_type": "code",
      "execution_count": 26,
      "metadata": {
        "colab": {
          "base_uri": "https://localhost:8080/"
        },
        "id": "91cf2c6b",
        "outputId": "af386648-eac9-4f66-a7e6-620632cbc813"
      },
      "outputs": [
        {
          "name": "stdout",
          "output_type": "stream",
          "text": [
            "Counts for TOIProcessed.csv:\n",
            "Status\n",
            "PC     3008\n",
            "FP      812\n",
            "CP      605\n",
            "KP      365\n",
            "APC     299\n",
            "FA       55\n",
            "Name: count, dtype: int64\n"
          ]
        }
      ],
      "source": [
        "import pandas as pd\n",
        "\n",
        "# Read the TOIProcessed.csv file into a DataFrame\n",
        "toi_df = pd.read_csv('.././data/processed/TOIProcessed.csv')\n",
        "\n",
        "# Rename the tfopwg_disp column to 'Status'\n",
        "toi_df = toi_df.rename(columns={'tfopwg_disp': 'Status'})\n",
        "\n",
        "# Count the occurrences of each value in the 'Status' column\n",
        "tfopwg_disp_counts = toi_df['Status'].value_counts()\n",
        "\n",
        "# Display the counts\n",
        "print(\"Counts for TOIProcessed.csv:\")\n",
        "print(tfopwg_disp_counts)"
      ]
    },
    {
      "cell_type": "code",
      "execution_count": null,
      "metadata": {},
      "outputs": [],
      "source": [
        "# Combine the three dataframes\n",
        "combined_df = pd.concat([k2_df, kepler_df, toi_df], ignore_index=True)\n",
        "\n",
        "# Display the first few rows and the info of the combined dataframe to verify\n",
        "print(\"Combined DataFrame:\")\n",
        "display(combined_df.head())\n",
        "print(\"\\nInfo of the combined DataFrame:\")\n",
        "combined_df.info()"
      ]
    },
    {
      "cell_type": "code",
      "execution_count": null,
      "metadata": {
        "id": "cTXeUyhCe_zT"
      },
      "outputs": [],
      "source": [
        "# Save the combined dataframe to a CSV file\n",
        "combined_df.to_csv('Trifuerza.csv', index=False)"
      ]
    }
  ],
  "metadata": {
    "colab": {
      "provenance": []
    },
    "kernelspec": {
      "display_name": "Python 3",
      "name": "python3"
    },
    "language_info": {
      "codemirror_mode": {
        "name": "ipython",
        "version": 3
      },
      "file_extension": ".py",
      "mimetype": "text/x-python",
      "name": "python",
      "nbconvert_exporter": "python",
      "pygments_lexer": "ipython3",
      "version": "3.11.0"
    }
  },
  "nbformat": 4,
  "nbformat_minor": 0
}

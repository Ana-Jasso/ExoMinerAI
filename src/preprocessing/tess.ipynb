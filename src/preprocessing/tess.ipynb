{
 "cells": [
  {
   "cell_type": "code",
   "execution_count": 9,
   "id": "729802f3",
   "metadata": {},
   "outputs": [
    {
     "name": "stderr",
     "output_type": "stream",
     "text": [
      "c:\\Users\\anala\\anaconda3\\Lib\\site-packages\\lightkurve\\prf\\__init__.py:7: UserWarning: Warning: the tpfmodel submodule is not available without oktopus installed, which requires a current version of autograd. See #1452 for details.\n",
      "  warnings.warn(\n"
     ]
    }
   ],
   "source": [
    "import numpy, scipy, matplotlib, pandas\n",
    "import astropy, astroquery, pyvo, lightkurve\n",
    "import boto3"
   ]
  },
  {
   "cell_type": "code",
   "execution_count": 10,
   "id": "4c5452ff",
   "metadata": {},
   "outputs": [
    {
     "name": "stderr",
     "output_type": "stream",
     "text": [
      "c:\\Users\\anala\\anaconda3\\Lib\\site-packages\\lightkurve\\search.py:420: LightkurveWarning: Warning: 185 files available to download. Only the first file has been downloaded. Please use `download_all()` or specify additional criteria (e.g. quarter, campaign, or sector) to limit your search.\n",
      "  warnings.warn(\n"
     ]
    },
    {
     "name": "stdout",
     "output_type": "stream",
     "text": [
      "       time             flux      ...   pos_corr1      pos_corr2   \n",
      "                    electron / s  ...      pix            pix      \n",
      "------------------ -------------- ... -------------- --------------\n",
      " 1437.991692126607            ——— ...  2.1859348e-02  3.0582698e-02\n",
      " 1437.993080989199            ——— ...  2.2479836e-02  3.5475314e-02\n",
      "1437.9944698517902            ——— ...  1.9671155e-02  2.8141242e-02\n",
      "1437.9958587143822            ——— ...  2.1455443e-02  3.2227896e-02\n",
      "1437.9972475769894            ——— ...  2.1912659e-02  2.7777039e-02\n",
      "1437.9986364395959            ——— ...  1.9395074e-02  2.8897021e-02\n",
      "1438.0000253022163            ——— ...  2.3495799e-02  3.2515164e-02\n",
      "1438.0014141648371            ——— ...  1.4792779e-02  2.1612648e-02\n",
      "1438.0028030274734            ——— ...  2.0326931e-02  3.1654201e-02\n",
      "               ...            ... ...            ...            ...\n",
      "1464.2398273158515            ——— ...            ———            ———\n",
      " 1464.241216175686            ——— ...            ———            ———\n",
      " 1464.245382755164            ——— ...            ———            ———\n",
      "1464.2467716150284            ——— ...            ———            ———\n",
      "1464.2481604748646            ——— ...            ———            ———\n",
      "1464.2495493346999            ——— ...            ———            ———\n",
      "1464.2509381945642            ——— ...            ———            ———\n",
      "1464.2523270544002            ——— ...            ———            ———\n",
      " 1464.262049073482            ——— ...            ———            ———\n",
      "1464.2634379333751            ——— ...            ———            ———\n",
      "Length = 17674 rows\n"
     ]
    }
   ],
   "source": [
    "search_result = lightkurve.search_lightcurve('TIC 25155310', mission='TESS')\n",
    "lc = search_result.download()\n",
    "print(lc)"
   ]
  },
  {
   "cell_type": "code",
   "execution_count": 12,
   "id": "e600147e",
   "metadata": {},
   "outputs": [
    {
     "name": "stdout",
     "output_type": "stream",
     "text": [
      "<TessLightCurve length=17674>\n",
      "      name       dtype      unit      format      class      n_bad\n",
      "--------------- ------- ------------ -------- -------------- -----\n",
      "           time  object                                 Time     0\n",
      "           flux float32 electron / s {:14.7e} MaskedQuantity   794\n",
      "       flux_err float32 electron / s {:14.7e} MaskedQuantity   794\n",
      "       timecorr float32            d {:14.7e}       Quantity     0\n",
      "      cadenceno   int32                {:10d}         Column     0\n",
      "   centroid_col float64          pix {:10.5f} MaskedQuantity     0\n",
      "   centroid_row float64          pix {:10.5f} MaskedQuantity     0\n",
      "       sap_flux float32 electron / s {:14.7e} MaskedQuantity     0\n",
      "   sap_flux_err float32 electron / s {:14.7e} MaskedQuantity     0\n",
      "        sap_bkg float32 electron / s {:14.7e} MaskedQuantity     0\n",
      "    sap_bkg_err float32 electron / s {:14.7e} MaskedQuantity     0\n",
      "    pdcsap_flux float32 electron / s {:14.7e} MaskedQuantity   794\n",
      "pdcsap_flux_err float32 electron / s {:14.7e} MaskedQuantity   794\n",
      "        quality   int32                {:16b}         Column     0\n",
      "     psf_centr1 float64          pix {:10.5f} MaskedQuantity 17674\n",
      " psf_centr1_err float32          pix {:14.7e} MaskedQuantity 17674\n",
      "     psf_centr2 float64          pix {:10.5f} MaskedQuantity 17674\n",
      " psf_centr2_err float32          pix {:14.7e} MaskedQuantity 17674\n",
      "     mom_centr1 float64          pix {:10.5f} MaskedQuantity     0\n",
      " mom_centr1_err float32          pix {:14.7e} MaskedQuantity     0\n",
      "     mom_centr2 float64          pix {:10.5f} MaskedQuantity     0\n",
      " mom_centr2_err float32          pix {:14.7e} MaskedQuantity     0\n",
      "      pos_corr1 float32          pix {:14.7e} MaskedQuantity    27\n",
      "      pos_corr2 float32          pix {:14.7e} MaskedQuantity    27\n"
     ]
    }
   ],
   "source": [
    "lc.info()"
   ]
  }
 ],
 "metadata": {
  "kernelspec": {
   "display_name": "base",
   "language": "python",
   "name": "python3"
  },
  "language_info": {
   "codemirror_mode": {
    "name": "ipython",
    "version": 3
   },
   "file_extension": ".py",
   "mimetype": "text/x-python",
   "name": "python",
   "nbconvert_exporter": "python",
   "pygments_lexer": "ipython3",
   "version": "3.12.7"
  }
 },
 "nbformat": 4,
 "nbformat_minor": 5
}
